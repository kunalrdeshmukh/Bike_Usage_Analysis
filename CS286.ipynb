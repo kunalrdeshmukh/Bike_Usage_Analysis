{
 "cells": [
  {
   "cell_type": "code",
   "execution_count": 24,
   "metadata": {},
   "outputs": [],
   "source": [
    "import pandas as pd\n",
    "import numpy as np\n",
    "import matplotlib.pyplot as plt\n",
    "import gmplot as gp\n",
    "\n",
    "gmap = gp.GoogleMapPlotter(40.7128, -74.0060, 6)\n"
   ]
  },
  {
   "cell_type": "code",
   "execution_count": 2,
   "metadata": {},
   "outputs": [],
   "source": [
    "data = pd.read_csv(\"/Users/samkit/Downloads/SocialNetwork/Project/Data/201801_citibikenyc_tripdata.csv\")\n",
    "data.head()\n",
    "data_backup = data"
   ]
  },
  {
   "cell_type": "code",
   "execution_count": 3,
   "metadata": {},
   "outputs": [
    {
     "name": "stdout",
     "output_type": "stream",
     "text": [
      "<class 'pandas.core.frame.DataFrame'>\n",
      "RangeIndex: 718990 entries, 0 to 718989\n",
      "Data columns (total 16 columns):\n",
      "tripduration               718990 non-null int64\n",
      "starttime                  718990 non-null object\n",
      "stoptime                   718990 non-null object\n",
      "start station id           718990 non-null int64\n",
      "start station name         718990 non-null object\n",
      "start station latitude     718990 non-null float64\n",
      "start station longitude    718990 non-null float64\n",
      "end station id             718990 non-null int64\n",
      "end station name           718990 non-null object\n",
      "end station latitude       718990 non-null float64\n",
      "end station longitude      718990 non-null float64\n",
      "bikeid                     718990 non-null int64\n",
      "name_localizedValue0       718990 non-null object\n",
      "usertype                   718990 non-null object\n",
      "birth year                 692847 non-null float64\n",
      "gender                     718990 non-null int64\n",
      "dtypes: float64(5), int64(5), object(6)\n",
      "memory usage: 87.8+ MB\n"
     ]
    }
   ],
   "source": [
    "data.info()"
   ]
  },
  {
   "cell_type": "code",
   "execution_count": 4,
   "metadata": {},
   "outputs": [
    {
     "data": {
      "text/html": [
       "<div>\n",
       "<style>\n",
       "    .dataframe thead tr:only-child th {\n",
       "        text-align: right;\n",
       "    }\n",
       "\n",
       "    .dataframe thead th {\n",
       "        text-align: left;\n",
       "    }\n",
       "\n",
       "    .dataframe tbody tr th {\n",
       "        vertical-align: top;\n",
       "    }\n",
       "</style>\n",
       "<table border=\"1\" class=\"dataframe\">\n",
       "  <thead>\n",
       "    <tr style=\"text-align: right;\">\n",
       "      <th></th>\n",
       "      <th>tripduration</th>\n",
       "      <th>start station id</th>\n",
       "      <th>start station latitude</th>\n",
       "      <th>start station longitude</th>\n",
       "      <th>end station id</th>\n",
       "      <th>end station latitude</th>\n",
       "      <th>end station longitude</th>\n",
       "      <th>bikeid</th>\n",
       "      <th>birth year</th>\n",
       "      <th>gender</th>\n",
       "    </tr>\n",
       "  </thead>\n",
       "  <tbody>\n",
       "    <tr>\n",
       "      <th>count</th>\n",
       "      <td>7.189900e+05</td>\n",
       "      <td>718990.000000</td>\n",
       "      <td>718990.000000</td>\n",
       "      <td>718990.000000</td>\n",
       "      <td>718990.000000</td>\n",
       "      <td>718990.000000</td>\n",
       "      <td>718990.000000</td>\n",
       "      <td>718990.000000</td>\n",
       "      <td>692847.000000</td>\n",
       "      <td>718990.000000</td>\n",
       "    </tr>\n",
       "    <tr>\n",
       "      <th>mean</th>\n",
       "      <td>7.566194e+02</td>\n",
       "      <td>1469.512583</td>\n",
       "      <td>40.737894</td>\n",
       "      <td>-73.982934</td>\n",
       "      <td>1460.942601</td>\n",
       "      <td>40.737620</td>\n",
       "      <td>-73.983203</td>\n",
       "      <td>26078.064018</td>\n",
       "      <td>1978.096792</td>\n",
       "      <td>1.169973</td>\n",
       "    </tr>\n",
       "    <tr>\n",
       "      <th>std</th>\n",
       "      <td>9.573695e+03</td>\n",
       "      <td>1398.624562</td>\n",
       "      <td>0.044702</td>\n",
       "      <td>0.018219</td>\n",
       "      <td>1396.756964</td>\n",
       "      <td>0.044525</td>\n",
       "      <td>0.018273</td>\n",
       "      <td>6311.929991</td>\n",
       "      <td>12.118001</td>\n",
       "      <td>0.472665</td>\n",
       "    </tr>\n",
       "    <tr>\n",
       "      <th>min</th>\n",
       "      <td>6.100000e+01</td>\n",
       "      <td>72.000000</td>\n",
       "      <td>40.646538</td>\n",
       "      <td>-74.017134</td>\n",
       "      <td>72.000000</td>\n",
       "      <td>40.646538</td>\n",
       "      <td>-74.033552</td>\n",
       "      <td>14529.000000</td>\n",
       "      <td>1885.000000</td>\n",
       "      <td>0.000000</td>\n",
       "    </tr>\n",
       "    <tr>\n",
       "      <th>25%</th>\n",
       "      <td>3.190000e+02</td>\n",
       "      <td>377.000000</td>\n",
       "      <td>40.719079</td>\n",
       "      <td>-73.994685</td>\n",
       "      <td>376.000000</td>\n",
       "      <td>40.719105</td>\n",
       "      <td>-73.994758</td>\n",
       "      <td>19558.000000</td>\n",
       "      <td>1969.000000</td>\n",
       "      <td>1.000000</td>\n",
       "    </tr>\n",
       "    <tr>\n",
       "      <th>50%</th>\n",
       "      <td>5.100000e+02</td>\n",
       "      <td>497.000000</td>\n",
       "      <td>40.739355</td>\n",
       "      <td>-73.985649</td>\n",
       "      <td>497.000000</td>\n",
       "      <td>40.739323</td>\n",
       "      <td>-73.986580</td>\n",
       "      <td>28538.000000</td>\n",
       "      <td>1981.000000</td>\n",
       "      <td>1.000000</td>\n",
       "    </tr>\n",
       "    <tr>\n",
       "      <th>75%</th>\n",
       "      <td>8.420000e+02</td>\n",
       "      <td>3170.000000</td>\n",
       "      <td>40.756687</td>\n",
       "      <td>-73.974987</td>\n",
       "      <td>3169.000000</td>\n",
       "      <td>40.756405</td>\n",
       "      <td>-73.975232</td>\n",
       "      <td>31571.000000</td>\n",
       "      <td>1988.000000</td>\n",
       "      <td>1.000000</td>\n",
       "    </tr>\n",
       "    <tr>\n",
       "      <th>max</th>\n",
       "      <td>4.421929e+06</td>\n",
       "      <td>3664.000000</td>\n",
       "      <td>45.506364</td>\n",
       "      <td>-73.568906</td>\n",
       "      <td>3664.000000</td>\n",
       "      <td>45.506364</td>\n",
       "      <td>-73.568906</td>\n",
       "      <td>33522.000000</td>\n",
       "      <td>2002.000000</td>\n",
       "      <td>2.000000</td>\n",
       "    </tr>\n",
       "  </tbody>\n",
       "</table>\n",
       "</div>"
      ],
      "text/plain": [
       "       tripduration  start station id  start station latitude  \\\n",
       "count  7.189900e+05     718990.000000           718990.000000   \n",
       "mean   7.566194e+02       1469.512583               40.737894   \n",
       "std    9.573695e+03       1398.624562                0.044702   \n",
       "min    6.100000e+01         72.000000               40.646538   \n",
       "25%    3.190000e+02        377.000000               40.719079   \n",
       "50%    5.100000e+02        497.000000               40.739355   \n",
       "75%    8.420000e+02       3170.000000               40.756687   \n",
       "max    4.421929e+06       3664.000000               45.506364   \n",
       "\n",
       "       start station longitude  end station id  end station latitude  \\\n",
       "count            718990.000000   718990.000000         718990.000000   \n",
       "mean                -73.982934     1460.942601             40.737620   \n",
       "std                   0.018219     1396.756964              0.044525   \n",
       "min                 -74.017134       72.000000             40.646538   \n",
       "25%                 -73.994685      376.000000             40.719105   \n",
       "50%                 -73.985649      497.000000             40.739323   \n",
       "75%                 -73.974987     3169.000000             40.756405   \n",
       "max                 -73.568906     3664.000000             45.506364   \n",
       "\n",
       "       end station longitude         bikeid     birth year         gender  \n",
       "count          718990.000000  718990.000000  692847.000000  718990.000000  \n",
       "mean              -73.983203   26078.064018    1978.096792       1.169973  \n",
       "std                 0.018273    6311.929991      12.118001       0.472665  \n",
       "min               -74.033552   14529.000000    1885.000000       0.000000  \n",
       "25%               -73.994758   19558.000000    1969.000000       1.000000  \n",
       "50%               -73.986580   28538.000000    1981.000000       1.000000  \n",
       "75%               -73.975232   31571.000000    1988.000000       1.000000  \n",
       "max               -73.568906   33522.000000    2002.000000       2.000000  "
      ]
     },
     "execution_count": 4,
     "metadata": {},
     "output_type": "execute_result"
    }
   ],
   "source": [
    "data.describe()"
   ]
  },
  {
   "cell_type": "markdown",
   "metadata": {},
   "source": [
    "Shape of the data."
   ]
  },
  {
   "cell_type": "code",
   "execution_count": 5,
   "metadata": {},
   "outputs": [
    {
     "data": {
      "text/plain": [
       "(718990, 16)"
      ]
     },
     "execution_count": 5,
     "metadata": {},
     "output_type": "execute_result"
    }
   ],
   "source": [
    "data.shape"
   ]
  },
  {
   "cell_type": "markdown",
   "metadata": {},
   "source": [
    "To check the presence of null values."
   ]
  },
  {
   "cell_type": "code",
   "execution_count": 6,
   "metadata": {},
   "outputs": [
    {
     "data": {
      "text/plain": [
       "tripduration                   0\n",
       "starttime                      0\n",
       "stoptime                       0\n",
       "start station id               0\n",
       "start station name             0\n",
       "start station latitude         0\n",
       "start station longitude        0\n",
       "end station id                 0\n",
       "end station name               0\n",
       "end station latitude           0\n",
       "end station longitude          0\n",
       "bikeid                         0\n",
       "name_localizedValue0           0\n",
       "usertype                       0\n",
       "birth year                 26143\n",
       "gender                         0\n",
       "dtype: int64"
      ]
     },
     "execution_count": 6,
     "metadata": {},
     "output_type": "execute_result"
    }
   ],
   "source": [
    "data.isnull().sum()  "
   ]
  },
  {
   "cell_type": "code",
   "execution_count": 7,
   "metadata": {
    "collapsed": true
   },
   "outputs": [],
   "source": [
    "data['age']=2018-data['birth year']"
   ]
  },
  {
   "cell_type": "code",
   "execution_count": 8,
   "metadata": {},
   "outputs": [
    {
     "data": {
      "image/png": "[encoded data removed]",
      "text/plain": [
       "<matplotlib.figure.Figure at 0x11129b2e8>"
      ]
     },
     "metadata": {},
     "output_type": "display_data"
    }
   ],
   "source": [
    "figure, axes = plt.subplots(nrows=6, ncols=1, figsize=(15,15))\n",
    "\n",
    "i = 1\n",
    "for col in data.columns:\n",
    "    if data[col].dtype == np.float64 or data[col].dtype == np.int64:\n",
    "        ax = plt.subplot(6, 2, i)\n",
    "        data[col].hist(bins=50)\n",
    "        ax.set_title(col)\n",
    "        i += 1\n",
    "\n",
    "figure.tight_layout()\n",
    "plt.show()"
   ]
  },
  {
   "cell_type": "markdown",
   "metadata": {},
   "source": [
    "To remove strange values"
   ]
  },
  {
   "cell_type": "code",
   "execution_count": 10,
   "metadata": {},
   "outputs": [
    {
     "name": "stdout",
     "output_type": "stream",
     "text": [
      "Initial rows=  (718979, 17)\n",
      "Final rows=    (718979, 17)\n"
     ]
    }
   ],
   "source": [
    "print(\"Initial rows= \",data.shape)\n",
    "data = data[data['tripduration'] <= 24*60*60*10]\n",
    "print(\"Final rows=   \",data.shape)"
   ]
  },
  {
   "cell_type": "code",
   "execution_count": 14,
   "metadata": {},
   "outputs": [
    {
     "name": "stdout",
     "output_type": "stream",
     "text": [
      "To check if one-to-one mapping exists\n",
      "For station name      : True\n",
      "For station Latitude  : True\n",
      "For station Longitude : True\n"
     ]
    }
   ],
   "source": [
    "def toCheckUnique(startstation,endstation):\n",
    "    a = len(data['start station id'].unique())\n",
    "    b = len(data[['start station id', startstation]].drop_duplicates())\n",
    "    c = len(data['end station id'].unique())\n",
    "    d = len(data[['end station id', endstation]].drop_duplicates())\n",
    "\n",
    "    return a == b and c == d\n",
    "print(\"To check if one-to-one mapping exists\")\n",
    "print(\"For station name      :\",toCheckUnique('start station name','end station name'))\n",
    "print(\"For station Latitude  :\",toCheckUnique('start station latitude','end station latitude'))\n",
    "print(\"For station Longitude :\",toCheckUnique('start station longitude','end station longitude'))"
   ]
  },
  {
   "cell_type": "code",
   "execution_count": 27,
   "metadata": {},
   "outputs": [],
   "source": [
    "gmap.plot(data['start station latitude'], data['start station longitude'], 'cornflowerblue', edge_width=10)\n",
    "gmap.scatter(data['start station latitude'], data['start station longitude'], '#FF6666', edge_width=10)\n"
   ]
  },
  {
   "cell_type": "code",
   "execution_count": 28,
   "metadata": {
    "collapsed": true
   },
   "outputs": [],
   "source": [
    "gmap.draw(\"my_map.html\")"
   ]
  },
  {
   "cell_type": "code",
   "execution_count": 29,
   "metadata": {},
   "outputs": [
    {
     "ename": "ModuleNotFoundError",
     "evalue": "No module named 'mpl_toolkits.basemap'",
     "output_type": "error",
     "traceback": [
      "\u001b[0;31m---------------------------------------------------------------------------\u001b[0m",
      "\u001b[0;31mModuleNotFoundError\u001b[0m                       Traceback (most recent call last)",
      "\u001b[0;32m<ipython-input-29-3e9f1d7d9eb7>\u001b[0m in \u001b[0;36m<module>\u001b[0;34m()\u001b[0m\n\u001b[1;32m      1\u001b[0m \u001b[0;32mimport\u001b[0m \u001b[0mmatplotlib\u001b[0m\u001b[0;34m.\u001b[0m\u001b[0mpyplot\u001b[0m \u001b[0;32mas\u001b[0m \u001b[0mplt\u001b[0m\u001b[0;34m\u001b[0m\u001b[0m\n\u001b[0;32m----> 2\u001b[0;31m \u001b[0;32mfrom\u001b[0m \u001b[0mmpl_toolkits\u001b[0m\u001b[0;34m.\u001b[0m\u001b[0mbasemap\u001b[0m \u001b[0;32mimport\u001b[0m \u001b[0mBasemap\u001b[0m\u001b[0;34m\u001b[0m\u001b[0m\n\u001b[0m\u001b[1;32m      3\u001b[0m \u001b[0;34m\u001b[0m\u001b[0m\n\u001b[1;32m      4\u001b[0m t1 = data[['start station id', 'start station name', 'start station latitude', 'start station longitude']]             .drop_duplicates().rename(columns = {'start station id':'station id',                                                  'start station name':'station name',                                                  'start station latitude':'station latitude', \n\u001b[1;32m      5\u001b[0m                                                  'start station longitude': 'station longitude'})\n",
      "\u001b[0;31mModuleNotFoundError\u001b[0m: No module named 'mpl_toolkits.basemap'"
     ]
    }
   ],
   "source": [
    "import matplotlib.pyplot as plt\n",
    "from mpl_toolkits.basemap import Basemap\n",
    "\n",
    "t1 = data[['start station id', 'start station name', 'start station latitude', 'start station longitude']] \\\n",
    "            .drop_duplicates().rename(columns = {'start station id':'station id', \\\n",
    "                                                 'start station name':'station name', \\\n",
    "                                                 'start station latitude':'station latitude', \n",
    "                                                 'start station longitude': 'station longitude'})\n",
    "t2 = data[['end station id', 'end station name', 'end station latitude', 'end station longitude']] \\\n",
    "        .drop_duplicates().rename(columns = {'end station id':'station id', \\\n",
    "                                             'end station name':'station name', \\\n",
    "                                             'end station latitude':'station latitude', \\\n",
    "                                             'end station longitude': 'station longitude'})\n",
    "df_loc = pd.concat([t1, t2]).drop_duplicates()\n",
    "\n",
    "fig, ax = plt.subplots(figsize=(15,15))\n",
    "\n",
    "# determine range to print based on min, max lat and lon of the data\n",
    "lat = list(df_loc['station latitude'])\n",
    "lon = list(df_loc['station longitude'])\n",
    "text = list(df_loc['station id'])\n",
    "margin = 0.01 # buffer to add to the range\n",
    "lat_min = min(lat) - margin\n",
    "lat_max = max(lat) + margin\n",
    "lon_min = min(lon) - margin\n",
    "lon_max = max(lon) + margin\n",
    "\n",
    "# create map using BASEMAP\n",
    "m = Basemap(llcrnrlon=lon_min,\n",
    "            llcrnrlat=lat_min,\n",
    "            urcrnrlon=lon_max,\n",
    "            urcrnrlat=lat_max,\n",
    "            lat_0=(lat_max - lat_min)/2,\n",
    "            lon_0=(lon_max - lon_min)/2,\n",
    "            projection='lcc',\n",
    "            resolution = 'f',)\n",
    "\n",
    "m.drawcoastlines()\n",
    "m.fillcontinents(lake_color='aqua')\n",
    "m.drawmapboundary(fill_color='aqua')\n",
    "m.drawrivers()\n",
    "\n",
    "# convert lat and lon to map projection coordinates\n",
    "lons, lats = m(lon, lat)\n",
    "\n",
    "# plot points as red dots\n",
    "ax.scatter(lons, lats, marker = 'o', color='r', zorder=5, alpha=0.6)\n",
    "for i in range(df_loc.shape[0]):\n",
    "    plt.text(lons[i], lats[i], text[i])\n",
    "plt.show()\n",
    "\n"
   ]
  },
  {
   "cell_type": "code",
   "execution_count": 35,
   "metadata": {},
   "outputs": [
    {
     "name": "stdout",
     "output_type": "stream",
     "text": [
      "<class 'pandas.core.frame.DataFrame'>\n",
      "Int64Index: 718979 entries, 0 to 718989\n",
      "Data columns (total 19 columns):\n",
      "tripduration               718979 non-null int64\n",
      "starttime                  718979 non-null datetime64[ns]\n",
      "stoptime                   718979 non-null datetime64[ns]\n",
      "start station id           718979 non-null int64\n",
      "start station name         718979 non-null object\n",
      "start station latitude     718979 non-null float64\n",
      "start station longitude    718979 non-null float64\n",
      "end station id             718979 non-null int64\n",
      "end station name           718979 non-null object\n",
      "end station latitude       718979 non-null float64\n",
      "end station longitude      718979 non-null float64\n",
      "bikeid                     718979 non-null int64\n",
      "name_localizedValue0       718979 non-null object\n",
      "usertype                   718979 non-null object\n",
      "birth year                 692840 non-null float64\n",
      "gender                     718979 non-null int64\n",
      "age                        692840 non-null float64\n",
      "start_seg                  718979 non-null object\n",
      "stop_seg                   718979 non-null object\n",
      "dtypes: datetime64[ns](2), float64(6), int64(5), object(6)\n",
      "memory usage: 109.7+ MB\n"
     ]
    }
   ],
   "source": [
    "data['starttime'] = pd.to_datetime(data['starttime'], format='%Y-%m-%d %H:%M:%S')\n",
    "data['stoptime'] =pd.to_datetime(data['stoptime'], format='%Y-%m-%d %H:%M:%S')\n",
    "data.info()\n"
   ]
  },
  {
   "cell_type": "code",
   "execution_count": 49,
   "metadata": {},
   "outputs": [
    {
     "name": "stdout",
     "output_type": "stream",
     "text": [
      "767\n"
     ]
    }
   ],
   "source": [
    "t1 = data[['start station id', 'start station name', 'start station latitude', 'start station longitude']] \\\n",
    "            .drop_duplicates().rename(columns = {'start station id':'station id', \\\n",
    "                                                 'start station name':'station name', \\\n",
    "                                                 'start station latitude':'station latitude', \n",
    "                                                 'start station longitude': 'station longitude'})\n",
    "t2 = data[['end station id', 'end station name', 'end station latitude', 'end station longitude']] \\\n",
    "        .drop_duplicates().rename(columns = {'end station id':'station id', \\\n",
    "                                             'end station name':'station name', \\\n",
    "                                             'end station latitude':'station latitude', \\\n",
    "                                             'end station longitude': 'station longitude'})\n",
    "df_loc = pd.concat([t1, t2]).drop_duplicates()\n",
    "print(len(df_loc))"
   ]
  },
  {
   "cell_type": "code",
   "execution_count": 31,
   "metadata": {},
   "outputs": [
    {
     "data": {
      "text/html": [
       "<div>\n",
       "<style>\n",
       "    .dataframe thead tr:only-child th {\n",
       "        text-align: right;\n",
       "    }\n",
       "\n",
       "    .dataframe thead th {\n",
       "        text-align: left;\n",
       "    }\n",
       "\n",
       "    .dataframe tbody tr th {\n",
       "        vertical-align: top;\n",
       "    }\n",
       "</style>\n",
       "<table border=\"1\" class=\"dataframe\">\n",
       "  <thead>\n",
       "    <tr style=\"text-align: right;\">\n",
       "      <th></th>\n",
       "      <th>start station id</th>\n",
       "      <th>starttime</th>\n",
       "      <th>start_seg</th>\n",
       "      <th>end station id</th>\n",
       "      <th>stoptime</th>\n",
       "      <th>stop_seg</th>\n",
       "    </tr>\n",
       "  </thead>\n",
       "  <tbody>\n",
       "    <tr>\n",
       "      <th>0</th>\n",
       "      <td>315</td>\n",
       "      <td>2018-01-01 00:01:51</td>\n",
       "      <td>2018-1-1 0:00</td>\n",
       "      <td>259</td>\n",
       "      <td>2018-01-01 00:05:07</td>\n",
       "      <td>2018-1-1 0:00</td>\n",
       "    </tr>\n",
       "    <tr>\n",
       "      <th>1</th>\n",
       "      <td>3224</td>\n",
       "      <td>2018-01-01 00:02:44</td>\n",
       "      <td>2018-1-1 0:00</td>\n",
       "      <td>470</td>\n",
       "      <td>2018-01-01 00:06:11</td>\n",
       "      <td>2018-1-1 0:00</td>\n",
       "    </tr>\n",
       "    <tr>\n",
       "      <th>2</th>\n",
       "      <td>386</td>\n",
       "      <td>2018-01-01 00:03:15</td>\n",
       "      <td>2018-1-1 0:00</td>\n",
       "      <td>2008</td>\n",
       "      <td>2018-01-01 00:13:28</td>\n",
       "      <td>2018-1-1 0:00</td>\n",
       "    </tr>\n",
       "    <tr>\n",
       "      <th>3</th>\n",
       "      <td>466</td>\n",
       "      <td>2018-01-01 00:06:44</td>\n",
       "      <td>2018-1-1 0:00</td>\n",
       "      <td>325</td>\n",
       "      <td>2018-01-01 00:12:59</td>\n",
       "      <td>2018-1-1 0:00</td>\n",
       "    </tr>\n",
       "    <tr>\n",
       "      <th>4</th>\n",
       "      <td>438</td>\n",
       "      <td>2018-01-01 00:06:57</td>\n",
       "      <td>2018-1-1 0:00</td>\n",
       "      <td>380</td>\n",
       "      <td>2018-01-01 00:13:40</td>\n",
       "      <td>2018-1-1 0:00</td>\n",
       "    </tr>\n",
       "  </tbody>\n",
       "</table>\n",
       "</div>"
      ],
      "text/plain": [
       "   start station id           starttime      start_seg  end station id  \\\n",
       "0               315 2018-01-01 00:01:51  2018-1-1 0:00             259   \n",
       "1              3224 2018-01-01 00:02:44  2018-1-1 0:00             470   \n",
       "2               386 2018-01-01 00:03:15  2018-1-1 0:00            2008   \n",
       "3               466 2018-01-01 00:06:44  2018-1-1 0:00             325   \n",
       "4               438 2018-01-01 00:06:57  2018-1-1 0:00             380   \n",
       "\n",
       "             stoptime       stop_seg  \n",
       "0 2018-01-01 00:05:07  2018-1-1 0:00  \n",
       "1 2018-01-01 00:06:11  2018-1-1 0:00  \n",
       "2 2018-01-01 00:13:28  2018-1-1 0:00  \n",
       "3 2018-01-01 00:12:59  2018-1-1 0:00  \n",
       "4 2018-01-01 00:13:40  2018-1-1 0:00  "
      ]
     },
     "execution_count": 31,
     "metadata": {},
     "output_type": "execute_result"
    }
   ],
   "source": [
    "def gen_time_segment(dt):\n",
    "    if dt.minute < 30:\n",
    "        minute = \"%02d\" % 0\n",
    "    else:\n",
    "        minute = \"%02d\" % 30\n",
    "    return \"{}-{}-{} {}:{}\".format(dt.year, dt.month, dt.day, dt.hour, minute)\n",
    "\n",
    "data['start_seg'] = [gen_time_segment(dt) for dt in data['starttime']]\n",
    "data['stop_seg'] = [gen_time_segment(dt) for dt in data['stoptime']]\n",
    "\n",
    "data[['start station id', 'starttime', 'start_seg', 'end station id', 'stoptime', 'stop_seg']].head()"
   ]
  },
  {
   "cell_type": "code",
   "execution_count": 44,
   "metadata": {
    "collapsed": true
   },
   "outputs": [],
   "source": [
    "inflow = data[['end station id', 'stop_seg']] \\\n",
    "            .groupby(['end station id', 'stop_seg']) \\\n",
    "            .size().reset_index(name='counts') \\\n",
    "            .rename(columns={'end station id':'station id','stop_seg':'time', 'counts':'in_flow_count'})"
   ]
  },
  {
   "cell_type": "code",
   "execution_count": 45,
   "metadata": {
    "collapsed": true
   },
   "outputs": [],
   "source": [
    "outflow = data[['start station id', 'start_seg']] \\\n",
    "            .groupby(['start station id', 'start_seg']) \\\n",
    "            .size().reset_index(name='counts') \\\n",
    "            .rename(columns={'start station id':'station id','start_seg':'time', 'counts':'out_flow_count'})"
   ]
  },
  {
   "cell_type": "code",
   "execution_count": 46,
   "metadata": {},
   "outputs": [
    {
     "data": {
      "text/html": [
       "<div>\n",
       "<style>\n",
       "    .dataframe thead tr:only-child th {\n",
       "        text-align: right;\n",
       "    }\n",
       "\n",
       "    .dataframe thead th {\n",
       "        text-align: left;\n",
       "    }\n",
       "\n",
       "    .dataframe tbody tr th {\n",
       "        vertical-align: top;\n",
       "    }\n",
       "</style>\n",
       "<table border=\"1\" class=\"dataframe\">\n",
       "  <thead>\n",
       "    <tr style=\"text-align: right;\">\n",
       "      <th></th>\n",
       "      <th>station id</th>\n",
       "      <th>time</th>\n",
       "      <th>in_flow_count</th>\n",
       "      <th>out_flow_count</th>\n",
       "    </tr>\n",
       "  </thead>\n",
       "  <tbody>\n",
       "    <tr>\n",
       "      <th>0</th>\n",
       "      <td>72</td>\n",
       "      <td>2018-01-01 11:00:00</td>\n",
       "      <td>2.0</td>\n",
       "      <td>0.0</td>\n",
       "    </tr>\n",
       "    <tr>\n",
       "      <th>1</th>\n",
       "      <td>72</td>\n",
       "      <td>2018-01-01 12:00:00</td>\n",
       "      <td>1.0</td>\n",
       "      <td>0.0</td>\n",
       "    </tr>\n",
       "    <tr>\n",
       "      <th>2</th>\n",
       "      <td>72</td>\n",
       "      <td>2018-01-01 13:30:00</td>\n",
       "      <td>1.0</td>\n",
       "      <td>1.0</td>\n",
       "    </tr>\n",
       "    <tr>\n",
       "      <th>3</th>\n",
       "      <td>72</td>\n",
       "      <td>2018-01-01 16:00:00</td>\n",
       "      <td>1.0</td>\n",
       "      <td>0.0</td>\n",
       "    </tr>\n",
       "    <tr>\n",
       "      <th>4</th>\n",
       "      <td>72</td>\n",
       "      <td>2018-01-01 17:30:00</td>\n",
       "      <td>1.0</td>\n",
       "      <td>0.0</td>\n",
       "    </tr>\n",
       "  </tbody>\n",
       "</table>\n",
       "</div>"
      ],
      "text/plain": [
       "   station id                time  in_flow_count  out_flow_count\n",
       "0          72 2018-01-01 11:00:00            2.0             0.0\n",
       "1          72 2018-01-01 12:00:00            1.0             0.0\n",
       "2          72 2018-01-01 13:30:00            1.0             1.0\n",
       "3          72 2018-01-01 16:00:00            1.0             0.0\n",
       "4          72 2018-01-01 17:30:00            1.0             0.0"
      ]
     },
     "execution_count": 46,
     "metadata": {},
     "output_type": "execute_result"
    }
   ],
   "source": [
    "import itertools\n",
    "\n",
    "station_id_list = list(df_loc['station id'])\n",
    "\n",
    "# Create combinations of time series and station ids\n",
    "time_seg_list = list(pd.date_range(\"2018-01-01 00:00:00\", \"2018-01-31 23:30:00\", freq=\"30min\"))\n",
    "template = pd.DataFrame(list(itertools.product(station_id_list, time_seg_list)), \\\n",
    "                        columns=[\"station id\", \"time\"])\n",
    "\n",
    "# Merge in/out flow information & Add zeros to missing data according to every time segment\n",
    "dat = pd.merge(inflow, outflow, on=['station id', 'time'], how='outer')\n",
    "dat['time'] = pd.to_datetime(dat['time'], format='%Y-%m-%d %H:%M')\n",
    "dat = dat.merge(template, on=[\"station id\", \"time\"], how=\"right\").fillna(0)\n",
    "dat.head()"
   ]
  },
  {
   "cell_type": "code",
   "execution_count": 54,
   "metadata": {},
   "outputs": [
    {
     "data": {
      "text/html": [
       "<div>\n",
       "<style>\n",
       "    .dataframe thead tr:only-child th {\n",
       "        text-align: right;\n",
       "    }\n",
       "\n",
       "    .dataframe thead th {\n",
       "        text-align: left;\n",
       "    }\n",
       "\n",
       "    .dataframe tbody tr th {\n",
       "        vertical-align: top;\n",
       "    }\n",
       "</style>\n",
       "<table border=\"1\" class=\"dataframe\">\n",
       "  <thead>\n",
       "    <tr style=\"text-align: right;\">\n",
       "      <th></th>\n",
       "      <th>station id</th>\n",
       "      <th>time</th>\n",
       "      <th>in_flow_count</th>\n",
       "      <th>out_flow_count</th>\n",
       "    </tr>\n",
       "  </thead>\n",
       "  <tbody>\n",
       "    <tr>\n",
       "      <th>0</th>\n",
       "      <td>72</td>\n",
       "      <td>2018-01-01 11:00:00</td>\n",
       "      <td>2.0</td>\n",
       "      <td>0.0</td>\n",
       "    </tr>\n",
       "    <tr>\n",
       "      <th>1</th>\n",
       "      <td>72</td>\n",
       "      <td>2018-01-01 12:00:00</td>\n",
       "      <td>1.0</td>\n",
       "      <td>0.0</td>\n",
       "    </tr>\n",
       "    <tr>\n",
       "      <th>2</th>\n",
       "      <td>72</td>\n",
       "      <td>2018-01-01 13:30:00</td>\n",
       "      <td>1.0</td>\n",
       "      <td>1.0</td>\n",
       "    </tr>\n",
       "    <tr>\n",
       "      <th>3</th>\n",
       "      <td>72</td>\n",
       "      <td>2018-01-01 16:00:00</td>\n",
       "      <td>1.0</td>\n",
       "      <td>0.0</td>\n",
       "    </tr>\n",
       "    <tr>\n",
       "      <th>4</th>\n",
       "      <td>72</td>\n",
       "      <td>2018-01-01 17:30:00</td>\n",
       "      <td>1.0</td>\n",
       "      <td>0.0</td>\n",
       "    </tr>\n",
       "  </tbody>\n",
       "</table>\n",
       "</div>"
      ],
      "text/plain": [
       "   station id                time  in_flow_count  out_flow_count\n",
       "0          72 2018-01-01 11:00:00            2.0             0.0\n",
       "1          72 2018-01-01 12:00:00            1.0             0.0\n",
       "2          72 2018-01-01 13:30:00            1.0             1.0\n",
       "3          72 2018-01-01 16:00:00            1.0             0.0\n",
       "4          72 2018-01-01 17:30:00            1.0             0.0"
      ]
     },
     "execution_count": 54,
     "metadata": {},
     "output_type": "execute_result"
    }
   ],
   "source": [
    "dat.head()"
   ]
  },
  {
   "cell_type": "markdown",
   "metadata": {},
   "source": [
    "we will be able to improve stock management of bikes using this data"
   ]
  },
  {
   "cell_type": "markdown",
   "metadata": {},
   "source": [
    "Lets explore distance between each node (stations) of our graph "
   ]
  },
  {
   "cell_type": "code",
   "execution_count": 55,
   "metadata": {},
   "outputs": [
    {
     "name": "stdout",
     "output_type": "stream",
     "text": [
      "no of nodes in this graph are 767\n"
     ]
    }
   ],
   "source": [
    "print(\"no of nodes in this graph are {}\".format(len(station_id_list)))"
   ]
  },
  {
   "cell_type": "markdown",
   "metadata": {},
   "source": [
    "we have used python library GeoPy to calculate distance between two places given their latitude and longitudes. this calculates geodesic distance between two points."
   ]
  },
  {
   "cell_type": "code",
   "execution_count": 61,
   "metadata": {},
   "outputs": [
    {
     "name": "stdout",
     "output_type": "stream",
     "text": [
      "The avg distance between the nodes is : 8766.541888396345\n"
     ]
    }
   ],
   "source": [
    "from geopy.distance import vincenty\n",
    "\n",
    "lat_dic = {}\n",
    "lon_dic = {}\n",
    "for index, row in df_loc.iterrows():\n",
    "    lat_dic[row['station id']] = row['station latitude']\n",
    "    lon_dic[row['station id']] = row['station longitude']\n",
    "\n",
    "\n",
    "c = itertools.combinations(station_id_list, 2)\n",
    "\n",
    "distance = []\n",
    "dist = 0\n",
    "dist_sum = 0\n",
    "count = 0\n",
    "for stn1, stn2 in c:\n",
    "        dist = vincenty((lat_dic[stn1], lon_dic[stn1]), (lat_dic[stn2], lon_dic[stn2])).meters\n",
    "        distance.append([stn1,stn2,dist])\n",
    "        dist_sum += dist\n",
    "        count += 1\n",
    "print(\"The avg distance between the nodes is :\",(dist_sum/count))"
   ]
  },
  {
   "cell_type": "code",
   "execution_count": null,
   "metadata": {},
   "outputs": [],
   "source": []
  },
  {
   "cell_type": "code",
   "execution_count": null,
   "metadata": {
    "collapsed": true
   },
   "outputs": [],
   "source": []
  }
 ],
 "metadata": {
  "kernelspec": {
   "display_name": "Python 3",
   "language": "python",
   "name": "python3"
  },
  "language_info": {
   "codemirror_mode": {
    "name": "ipython",
    "version": 3
   },
   "file_extension": ".py",
   "mimetype": "text/x-python",
   "name": "python",
   "nbconvert_exporter": "python",
   "pygments_lexer": "ipython3",
   "version": "3.6.3"
  }
 },
 "nbformat": 4,
 "nbformat_minor": 2
}
