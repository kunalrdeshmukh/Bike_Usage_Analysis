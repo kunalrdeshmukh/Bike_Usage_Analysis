{
 "cells": [
  {
   "cell_type": "markdown",
   "metadata": {},
   "source": [
    "### Read data form CSV"
   ]
  },
  {
   "cell_type": "code",
   "execution_count": 1,
   "metadata": {},
   "outputs": [],
   "source": [
    "data1307 <- read.csv(file=\"Data/2013-07 - Citi Bike trip data.csv\", header=TRUE, sep=\",\")"
   ]
  },
  {
   "cell_type": "code",
   "execution_count": 2,
   "metadata": {},
   "outputs": [],
   "source": [
    "# data1308 <- read.csv(file=\"Data/2013-08 - Citi Bike trip data.csv\", header=TRUE, sep=\",\")"
   ]
  },
  {
   "cell_type": "code",
   "execution_count": 3,
   "metadata": {},
   "outputs": [],
   "source": [
    "# data1309 <- read.csv(file=\"Data/2013-09 - Citi Bike trip data.csv\", header=TRUE, sep=\",\")"
   ]
  },
  {
   "cell_type": "code",
   "execution_count": 4,
   "metadata": {},
   "outputs": [],
   "source": [
    "# data1310 <- read.csv(file=\"Data/2013-10 - Citi Bike trip data.csv\", header=TRUE, sep=\",\")"
   ]
  },
  {
   "cell_type": "code",
   "execution_count": 5,
   "metadata": {},
   "outputs": [],
   "source": [
    "# data = pipe(\"cat bigfile1.txt bigfile2.txt bigfile3.txt\")"
   ]
  },
  {
   "cell_type": "code",
   "execution_count": 6,
   "metadata": {},
   "outputs": [],
   "source": [
    "# data = merge(data1307,data1308,all=TRUE)"
   ]
  },
  {
   "cell_type": "code",
   "execution_count": 7,
   "metadata": {},
   "outputs": [],
   "source": [
    "# data = merge(merge(data,data1309,all=TRUE),data1310, all= TRUE)"
   ]
  },
  {
   "cell_type": "code",
   "execution_count": 8,
   "metadata": {},
   "outputs": [],
   "source": [
    "data = data1307"
   ]
  },
  {
   "cell_type": "markdown",
   "metadata": {},
   "source": [
    "Lets see how our data looks like"
   ]
  },
  {
   "cell_type": "code",
   "execution_count": 9,
   "metadata": {},
   "outputs": [
    {
     "data": {
      "text/html": [
       "<table>\n",
       "<thead><tr><th scope=col>tripduration</th><th scope=col>starttime</th><th scope=col>stoptime</th><th scope=col>start.station.id</th><th scope=col>start.station.name</th><th scope=col>start.station.latitude</th><th scope=col>start.station.longitude</th><th scope=col>end.station.id</th><th scope=col>end.station.name</th><th scope=col>end.station.latitude</th><th scope=col>end.station.longitude</th><th scope=col>bikeid</th><th scope=col>usertype</th><th scope=col>birth.year</th><th scope=col>gender</th></tr></thead>\n",
       "<tbody>\n",
       "\t<tr><td> 634                                                               </td><td>2013-07-01 00:00:00                                                </td><td>2013-07-01 00:10:34                                                </td><td>164                                                                </td><td><span style=white-space:pre-wrap>E 47 St &amp; 2 Ave        </span></td><td>40.75323                                                           </td><td>-73.97033                                                          </td><td>504                                                                </td><td><span style=white-space:pre-wrap>1 Ave &amp; E 15 St        </span></td><td>40.73222                                                           </td><td>-73.98166                                                          </td><td>16950                                                              </td><td><span style=white-space:pre-wrap>Customer  </span>                 </td><td>\\N                                                                </td><td>0                                                                  </td></tr>\n",
       "\t<tr><td>1547                                                               </td><td>2013-07-01 00:00:02                                                </td><td>2013-07-01 00:25:49                                                </td><td>388                                                                </td><td><span style=white-space:pre-wrap>W 26 St &amp; 10 Ave       </span></td><td>40.74972                                                           </td><td>-74.00295                                                          </td><td>459                                                                </td><td><span style=white-space:pre-wrap>W 20 St &amp; 11 Ave       </span></td><td>40.74674                                                           </td><td>-74.00776                                                          </td><td>19816                                                              </td><td><span style=white-space:pre-wrap>Customer  </span>                 </td><td>\\N                                                                </td><td>0                                                                  </td></tr>\n",
       "\t<tr><td> 178                                                               </td><td>2013-07-01 00:01:04                                                </td><td>2013-07-01 00:04:02                                                </td><td>293                                                                </td><td><span style=white-space:pre-wrap>Lafayette St &amp; E 8 St  </span></td><td>40.73029                                                           </td><td>-73.99076                                                          </td><td>237                                                                </td><td><span style=white-space:pre-wrap>E 11 St &amp; 2 Ave        </span></td><td>40.73047                                                           </td><td>-73.98672                                                          </td><td>14548                                                              </td><td>Subscriber                                                         </td><td>1980                                                               </td><td>2                                                                  </td></tr>\n",
       "\t<tr><td>1580                                                               </td><td>2013-07-01 00:01:06                                                </td><td>2013-07-01 00:27:26                                                </td><td>531                                                                </td><td>Forsyth St &amp; Broome St                                         </td><td>40.71894                                                           </td><td>-73.99266                                                          </td><td>499                                                                </td><td><span style=white-space:pre-wrap>Broadway &amp; W 60 St     </span></td><td>40.76916                                                           </td><td>-73.98192                                                          </td><td>16063                                                              </td><td><span style=white-space:pre-wrap>Customer  </span>                 </td><td>\\N                                                                </td><td>0                                                                  </td></tr>\n",
       "\t<tr><td> 757                       </td><td>2013-07-01 00:01:10        </td><td>2013-07-01 00:13:47        </td><td>382                        </td><td>University Pl &amp; E 14 St</td><td>40.73493                   </td><td>-73.99201                  </td><td>410                        </td><td>Suffolk St &amp; Stanton St</td><td>40.72066                   </td><td>-73.98518                  </td><td>19213                      </td><td>Subscriber                 </td><td>1986                       </td><td>1                          </td></tr>\n",
       "</tbody>\n",
       "</table>\n"
      ],
      "text/latex": [
       "\\begin{tabular}{r|lllllllllllllll}\n",
       " tripduration & starttime & stoptime & start.station.id & start.station.name & start.station.latitude & start.station.longitude & end.station.id & end.station.name & end.station.latitude & end.station.longitude & bikeid & usertype & birth.year & gender\\\\\n",
       "\\hline\n",
       "\t  634                      & 2013-07-01 00:00:00       & 2013-07-01 00:10:34       & 164                       & E 47 St \\& 2 Ave         & 40.75323                  & -73.97033                 & 504                       & 1 Ave \\& E 15 St         & 40.73222                  & -73.98166                 & 16950                     & Customer                  & \\textbackslash{}N        & 0                        \\\\\n",
       "\t 1547                      & 2013-07-01 00:00:02       & 2013-07-01 00:25:49       & 388                       & W 26 St \\& 10 Ave        & 40.74972                  & -74.00295                 & 459                       & W 20 St \\& 11 Ave        & 40.74674                  & -74.00776                 & 19816                     & Customer                  & \\textbackslash{}N        & 0                        \\\\\n",
       "\t  178                      & 2013-07-01 00:01:04       & 2013-07-01 00:04:02       & 293                       & Lafayette St \\& E 8 St   & 40.73029                  & -73.99076                 & 237                       & E 11 St \\& 2 Ave         & 40.73047                  & -73.98672                 & 14548                     & Subscriber                & 1980                      & 2                        \\\\\n",
       "\t 1580                      & 2013-07-01 00:01:06       & 2013-07-01 00:27:26       & 531                       & Forsyth St \\& Broome St  & 40.71894                  & -73.99266                 & 499                       & Broadway \\& W 60 St      & 40.76916                  & -73.98192                 & 16063                     & Customer                  & \\textbackslash{}N        & 0                        \\\\\n",
       "\t  757                      & 2013-07-01 00:01:10       & 2013-07-01 00:13:47       & 382                       & University Pl \\& E 14 St & 40.73493                  & -73.99201                 & 410                       & Suffolk St \\& Stanton St & 40.72066                  & -73.98518                 & 19213                     & Subscriber                & 1986                      & 1                        \\\\\n",
       "\\end{tabular}\n"
      ],
      "text/markdown": [
       "\n",
       "tripduration | starttime | stoptime | start.station.id | start.station.name | start.station.latitude | start.station.longitude | end.station.id | end.station.name | end.station.latitude | end.station.longitude | bikeid | usertype | birth.year | gender | \n",
       "|---|---|---|---|---|\n",
       "|  634                    | 2013-07-01 00:00:00     | 2013-07-01 00:10:34     | 164                     | E 47 St & 2 Ave         | 40.75323                | -73.97033               | 504                     | 1 Ave & E 15 St         | 40.73222                | -73.98166               | 16950                   | Customer                | \\N                     | 0                       | \n",
       "| 1547                    | 2013-07-01 00:00:02     | 2013-07-01 00:25:49     | 388                     | W 26 St & 10 Ave        | 40.74972                | -74.00295               | 459                     | W 20 St & 11 Ave        | 40.74674                | -74.00776               | 19816                   | Customer                | \\N                     | 0                       | \n",
       "|  178                    | 2013-07-01 00:01:04     | 2013-07-01 00:04:02     | 293                     | Lafayette St & E 8 St   | 40.73029                | -73.99076               | 237                     | E 11 St & 2 Ave         | 40.73047                | -73.98672               | 14548                   | Subscriber              | 1980                    | 2                       | \n",
       "| 1580                    | 2013-07-01 00:01:06     | 2013-07-01 00:27:26     | 531                     | Forsyth St & Broome St  | 40.71894                | -73.99266               | 499                     | Broadway & W 60 St      | 40.76916                | -73.98192               | 16063                   | Customer                | \\N                     | 0                       | \n",
       "|  757                    | 2013-07-01 00:01:10     | 2013-07-01 00:13:47     | 382                     | University Pl & E 14 St | 40.73493                | -73.99201               | 410                     | Suffolk St & Stanton St | 40.72066                | -73.98518               | 19213                   | Subscriber              | 1986                    | 1                       | \n",
       "\n",
       "\n"
      ],
      "text/plain": [
       "  tripduration starttime           stoptime            start.station.id\n",
       "1  634         2013-07-01 00:00:00 2013-07-01 00:10:34 164             \n",
       "2 1547         2013-07-01 00:00:02 2013-07-01 00:25:49 388             \n",
       "3  178         2013-07-01 00:01:04 2013-07-01 00:04:02 293             \n",
       "4 1580         2013-07-01 00:01:06 2013-07-01 00:27:26 531             \n",
       "5  757         2013-07-01 00:01:10 2013-07-01 00:13:47 382             \n",
       "  start.station.name      start.station.latitude start.station.longitude\n",
       "1 E 47 St & 2 Ave         40.75323               -73.97033              \n",
       "2 W 26 St & 10 Ave        40.74972               -74.00295              \n",
       "3 Lafayette St & E 8 St   40.73029               -73.99076              \n",
       "4 Forsyth St & Broome St  40.71894               -73.99266              \n",
       "5 University Pl & E 14 St 40.73493               -73.99201              \n",
       "  end.station.id end.station.name        end.station.latitude\n",
       "1 504            1 Ave & E 15 St         40.73222            \n",
       "2 459            W 20 St & 11 Ave        40.74674            \n",
       "3 237            E 11 St & 2 Ave         40.73047            \n",
       "4 499            Broadway & W 60 St      40.76916            \n",
       "5 410            Suffolk St & Stanton St 40.72066            \n",
       "  end.station.longitude bikeid usertype   birth.year gender\n",
       "1 -73.98166             16950  Customer   \\\\N        0     \n",
       "2 -74.00776             19816  Customer   \\\\N        0     \n",
       "3 -73.98672             14548  Subscriber 1980       2     \n",
       "4 -73.98192             16063  Customer   \\\\N        0     \n",
       "5 -73.98518             19213  Subscriber 1986       1     "
      ]
     },
     "metadata": {},
     "output_type": "display_data"
    }
   ],
   "source": [
    "head(data,5)"
   ]
  },
  {
   "cell_type": "code",
   "execution_count": 10,
   "metadata": {},
   "outputs": [
    {
     "data": {
      "text/plain": [
       "  tripduration                   starttime                     stoptime     \n",
       " Min.   :     60   2013-07-10 17:33:32:     8   2013-07-29 18:56:51:     9  \n",
       " 1st Qu.:    444   2013-07-16 18:10:49:     7   2013-07-30 18:34:23:     8  \n",
       " Median :    729   2013-07-19 08:33:25:     7   2013-07-16 08:58:00:     7  \n",
       " Mean   :    998   2013-07-19 12:17:28:     7   2013-07-17 18:05:57:     7  \n",
       " 3rd Qu.:   1202   2013-07-24 09:31:34:     7   2013-07-20 16:45:42:     7  \n",
       " Max.   :6250750   2013-07-26 17:19:22:     7   2013-07-23 17:18:56:     7  \n",
       "                   (Other)            :843373   (Other)            :843371  \n",
       " start.station.id             start.station.name start.station.latitude\n",
       " Min.   :  72.0   W 20 St & 11 Ave     :  8049   Min.   :40.68         \n",
       " 1st Qu.: 305.0   E 17 St & Broadway   :  7814   1st Qu.:40.72         \n",
       " Median : 401.0   West St & Chambers St:  7387   Median :40.74         \n",
       " Mean   : 428.4   Pershing Square N    :  7290   Mean   :40.73         \n",
       " 3rd Qu.: 482.0   Broadway & E 14 St   :  7167   3rd Qu.:40.75         \n",
       " Max.   :3002.0   8 Ave & W 31 St      :  7048   Max.   :40.77         \n",
       "                  (Other)              :798661                         \n",
       " start.station.longitude end.station.id                   end.station.name \n",
       " Min.   :-74.02          Min.   :  72.0   E 17 St & Broadway      :  8305  \n",
       " 1st Qu.:-74.00          1st Qu.: 304.0   W 20 St & 11 Ave        :  7848  \n",
       " Median :-73.99          Median : 399.0   West St & Chambers St   :  7626  \n",
       " Mean   :-73.99          Mean   : 429.4   Broadway & E 14 St      :  7052  \n",
       " 3rd Qu.:-73.98          3rd Qu.: 480.0   Lafayette St & E 8 St   :  6926  \n",
       " Max.   :-73.95          Max.   :3002.0   Vesey Pl & River Terrace:  6832  \n",
       "                                          (Other)                 :798827  \n",
       " end.station.latitude end.station.longitude     bikeid            usertype     \n",
       " Min.   :40.68        Min.   :-74.02        Min.   :14529   Customer  :174915  \n",
       " 1st Qu.:40.72        1st Qu.:-74.00        1st Qu.:16136   Subscriber:668501  \n",
       " Median :40.73        Median :-73.99        Median :17627                      \n",
       " Mean   :40.73        Mean   :-73.99        Mean   :17616                      \n",
       " 3rd Qu.:40.75        3rd Qu.:-73.98        3rd Qu.:19088                      \n",
       " Max.   :40.77        Max.   :-73.95        Max.   :20626                      \n",
       "                                                                               \n",
       "  birth.year          gender      \n",
       " \\\\N    :174887   Min.   :0.0000  \n",
       " 1983   : 31412   1st Qu.:1.0000  \n",
       " 1985   : 31023   Median :1.0000  \n",
       " 1982   : 30856   Mean   :0.9787  \n",
       " 1981   : 29785   3rd Qu.:1.0000  \n",
       " 1980   : 28040   Max.   :2.0000  \n",
       " (Other):517413                   "
      ]
     },
     "metadata": {},
     "output_type": "display_data"
    }
   ],
   "source": [
    "summary(data)"
   ]
  },
  {
   "cell_type": "code",
   "execution_count": 11,
   "metadata": {},
   "outputs": [
    {
     "data": {
      "text/html": [
       "<dl class=dl-horizontal>\n",
       "\t<dt>tripduration</dt>\n",
       "\t\t<dd>FALSE</dd>\n",
       "\t<dt>starttime</dt>\n",
       "\t\t<dd>FALSE</dd>\n",
       "\t<dt>stoptime</dt>\n",
       "\t\t<dd>FALSE</dd>\n",
       "\t<dt>start.station.id</dt>\n",
       "\t\t<dd>FALSE</dd>\n",
       "\t<dt>start.station.name</dt>\n",
       "\t\t<dd>FALSE</dd>\n",
       "\t<dt>start.station.latitude</dt>\n",
       "\t\t<dd>FALSE</dd>\n",
       "\t<dt>start.station.longitude</dt>\n",
       "\t\t<dd>FALSE</dd>\n",
       "\t<dt>end.station.id</dt>\n",
       "\t\t<dd>FALSE</dd>\n",
       "\t<dt>end.station.name</dt>\n",
       "\t\t<dd>FALSE</dd>\n",
       "\t<dt>end.station.latitude</dt>\n",
       "\t\t<dd>FALSE</dd>\n",
       "\t<dt>end.station.longitude</dt>\n",
       "\t\t<dd>FALSE</dd>\n",
       "\t<dt>bikeid</dt>\n",
       "\t\t<dd>FALSE</dd>\n",
       "\t<dt>usertype</dt>\n",
       "\t\t<dd>FALSE</dd>\n",
       "\t<dt>birth.year</dt>\n",
       "\t\t<dd>FALSE</dd>\n",
       "\t<dt>gender</dt>\n",
       "\t\t<dd>FALSE</dd>\n",
       "</dl>\n"
      ],
      "text/latex": [
       "\\begin{description*}\n",
       "\\item[tripduration] FALSE\n",
       "\\item[starttime] FALSE\n",
       "\\item[stoptime] FALSE\n",
       "\\item[start.station.id] FALSE\n",
       "\\item[start.station.name] FALSE\n",
       "\\item[start.station.latitude] FALSE\n",
       "\\item[start.station.longitude] FALSE\n",
       "\\item[end.station.id] FALSE\n",
       "\\item[end.station.name] FALSE\n",
       "\\item[end.station.latitude] FALSE\n",
       "\\item[end.station.longitude] FALSE\n",
       "\\item[bikeid] FALSE\n",
       "\\item[usertype] FALSE\n",
       "\\item[birth.year] FALSE\n",
       "\\item[gender] FALSE\n",
       "\\end{description*}\n"
      ],
      "text/markdown": [
       "tripduration\n",
       ":   FALSEstarttime\n",
       ":   FALSEstoptime\n",
       ":   FALSEstart.station.id\n",
       ":   FALSEstart.station.name\n",
       ":   FALSEstart.station.latitude\n",
       ":   FALSEstart.station.longitude\n",
       ":   FALSEend.station.id\n",
       ":   FALSEend.station.name\n",
       ":   FALSEend.station.latitude\n",
       ":   FALSEend.station.longitude\n",
       ":   FALSEbikeid\n",
       ":   FALSEusertype\n",
       ":   FALSEbirth.year\n",
       ":   FALSEgender\n",
       ":   FALSE\n",
       "\n"
      ],
      "text/plain": [
       "           tripduration               starttime                stoptime \n",
       "                  FALSE                   FALSE                   FALSE \n",
       "       start.station.id      start.station.name  start.station.latitude \n",
       "                  FALSE                   FALSE                   FALSE \n",
       "start.station.longitude          end.station.id        end.station.name \n",
       "                  FALSE                   FALSE                   FALSE \n",
       "   end.station.latitude   end.station.longitude                  bikeid \n",
       "                  FALSE                   FALSE                   FALSE \n",
       "               usertype              birth.year                  gender \n",
       "                  FALSE                   FALSE                   FALSE "
      ]
     },
     "metadata": {},
     "output_type": "display_data"
    }
   ],
   "source": [
    "apply(data, 2, function(x) any(is.na(x)))"
   ]
  },
  {
   "cell_type": "markdown",
   "metadata": {},
   "source": [
    "### Lets visualize data :"
   ]
  },
  {
   "cell_type": "code",
   "execution_count": 12,
   "metadata": {},
   "outputs": [
    {
     "data": {
      "image/png": "[encoded data removed]",
      "text/plain": [
       "Plot with title “Gender Distribution”"
      ]
     },
     "metadata": {},
     "output_type": "display_data"
    }
   ],
   "source": [
    "counts <- table(data$gender)\n",
    "barplot(counts, main=\"Gender Distribution\", \n",
    "  \txlab=\"Gender\")"
   ]
  },
  {
   "cell_type": "markdown",
   "metadata": {},
   "source": [
    "We will use igraph module"
   ]
  },
  {
   "cell_type": "code",
   "execution_count": 18,
   "metadata": {},
   "outputs": [
    {
     "name": "stderr",
     "output_type": "stream",
     "text": [
      "Loading required package: gsubfn\n",
      "Loading required package: proto\n",
      "Loading required package: RSQLite\n"
     ]
    }
   ],
   "source": [
    "rm(list=ls())\n",
    "library(igraph)\n",
    "library(sqldf)"
   ]
  },
  {
   "cell_type": "code",
   "execution_count": 31,
   "metadata": {},
   "outputs": [
    {
     "ename": "ERROR",
     "evalue": "Error in parse(text = x, srcfile = src): <text>:1:15: unexpected numeric constant\n1: unique(c(data$3\n                  ^\n",
     "output_type": "error",
     "traceback": [
      "Error in parse(text = x, srcfile = src): <text>:1:15: unexpected numeric constant\n1: unique(c(data$3\n                  ^\nTraceback:\n"
     ]
    }
   ],
   "source": [
    "unique(c(data$3 , data$7)) "
   ]
  },
  {
   "cell_type": "code",
   "execution_count": null,
   "metadata": {},
   "outputs": [],
   "source": []
  }
 ],
 "metadata": {
  "kernelspec": {
   "display_name": "R 3.3",
   "language": "R",
   "name": "ir33"
  },
  "language_info": {
   "codemirror_mode": "r",
   "file_extension": ".r",
   "mimetype": "text/x-r-source",
   "name": "R",
   "pygments_lexer": "r",
   "version": "3.4.4"
  }
 },
 "nbformat": 4,
 "nbformat_minor": 2
}
